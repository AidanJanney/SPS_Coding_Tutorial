{
 "cells": [
  {
   "cell_type": "code",
   "execution_count": 3,
   "id": "87eae4",
   "metadata": {
    "collapsed": false,
    "nbgrader": {
     "grade": false,
     "grade_id": "cell-0a8da221583b2c3d",
     "locked": true,
     "schema_version": 3,
     "solution": false,
     "task": false
    }
   },
   "outputs": [
   ],
   "source": [
    "%matplotlib inline\n",
    "\n",
    "import numpy as np\n",
    "import matplotlib.pyplot as plt"
   ]
  },
  {
   "cell_type": "markdown",
   "id": "59907d",
   "metadata": {
    "collapsed": false,
    "nbgrader": {
     "grade": false,
     "grade_id": "cell-06bff42e9e16d26f",
     "locked": true,
     "schema_version": 3,
     "solution": false,
     "task": false
    }
   },
   "source": [
    "If you worked collaboratively on this assignment, __include the names of your collaborators in the cell below:__\n",
    "\n"
   ]
  },
  {
   "cell_type": "markdown",
   "id": "9fa3be",
   "metadata": {
    "collapsed": false
   },
   "source": [
   ]
  },
  {
   "cell_type": "markdown",
   "id": "f4b9f5",
   "metadata": {
    "collapsed": false,
    "nbgrader": {
     "grade": false,
     "grade_id": "cell-9bbcf2e8b7cbb637",
     "locked": true,
     "schema_version": 3,
     "solution": false,
     "task": false
    }
   },
   "source": [
    "## 8.0 - Homework correction (3 points)\n",
    "\n",
    "In the cell below, explain and correct __one mistake__ you made on homework #6.  If you got a perfect score, great, tell us what your favorite problem was, or use the space to give any other feedback you might have on the class/tutorials/homework."
   ]
  },
  {
   "cell_type": "markdown",
   "id": "548027",
   "metadata": {
    "collapsed": false,
    "nbgrader": {
     "grade": true,
     "grade_id": "hw9-correction",
     "locked": false,
     "points": 3,
     "schema_version": 3,
     "solution": true,
     "task": false
    }
   },
   "source": [
   ]
  },
  {
   "cell_type": "markdown",
   "id": "955c0a",
   "metadata": {
    "collapsed": false,
    "nbgrader": {
     "grade": false,
     "grade_id": "cell-d2c82c8aa1cfa609",
     "locked": true,
     "schema_version": 3,
     "solution": false,
     "task": false
    }
   },
   "source": [
    "### Important Note\n",
    "\n",
    "Once again, this is a \"mini-project\" homework assignment: __there is only one problem.__  Again, this is a bit of a warm-up for the final projects.\n",
    "\n",
    "To give you a bit of extra time to put the pieces together, __you will have 2 weeks to complete this assignment instead of the usual 1 week.__"
   ]
  },
  {
   "cell_type": "markdown",
   "id": "3ec315",
   "metadata": {
    "collapsed": false,
    "nbgrader": {
     "grade": false,
     "grade_id": "cell-faff93794df1c141",
     "locked": true,
     "schema_version": 3,
     "solution": false,
     "task": false
    }
   },
   "source": [
    "## 8.1 - Hitting the mark with air resistance (45 points)\n",
    "\n",
    "_(Note: __this is the only problem on this week's homework!__  Think of this as a miniature version of the projects that you'll be doing at the end of the semester.  You should start early to make sure you have time to chat with the instructors and other students if you get stuck...)_\n",
    "\n",
    "We've done a number of kinematics problems, but most of them didn't include anything you didn't already know the answer to.  Now that we can solve ODEs, we can go far beyond what pen and paper can do!\n",
    "\n",
    "Let's consider __two-dimensional kinematics with air resistance.__ For relatively small speed (and/or small objects), the effect of air resistance is to give a _drag_ force which is proportional to the speed:\n",
    "\n",
    "$$\n",
    "\\mathbf{F}_{\\rm drag} = -b\\mathbf{v}\n",
    "$$\n",
    "\n",
    "For larger objects and higher speeds, a _quadratic_ drag force becomes important,\n",
    "\n",
    "$$\n",
    "\\mathbf{F}_{\\rm drag, quad} = - cv\\mathbf{v}\n",
    "$$\n",
    "\n",
    "(where $c$ itself depends on some things like [air density and the size of our object](http://hyperphysics.phy-astr.gsu.edu/hbase/airfri.html), but we'll just assume those are all fixed.)  The units of $b$ are kg/s, and for $c$ we have kg/m.\n",
    "\n",
    "If we add in gravity as well, the two-dimensional kinematic equations are, split into x- and y-components,\n",
    "\n",
    "$$\n",
    "m \\frac{d^2x}{dt^2} = -bv_x -  c v_x \\sqrt{v_x^2 + v_y^2} \\\\\n",
    "m \\frac{d^2y}{dt^2} = -mg - bv_y -  c v_y \\sqrt{v_x^2 + v_y^2}\n",
    "$$\n",
    "\n",
    "### Part A (6 points)\n",
    "\n",
    "To solve this as an initial-value problem using our ODE methods, we need to split this into _four first-order ODEs_ for the quantities $x$, $v_x$, $y$ and $v_y$.  That's easy enough to do:\n",
    "\n",
    "$$\n",
    "\\frac{dx}{dt} = v_x \\\\\n",
    "\\frac{dy}{dt} = v_y \\\\\n",
    "\\frac{dv_x}{dt} = -bv_x - cv_x \\sqrt{v_x^2 + v_y^2} \\\\\n",
    "\\frac{dv_y}{dt} = -mg - bv_y - cv_y \\sqrt{v_x^2 + v_y^2} \n",
    "$$\n",
    "\n",
    "Following the procedure described in lecture, we now convert to finite-difference equations by using the first-order forward discrete derivative assuming we've made everything into a discrete set of samples $t_i, x_i, y_i...$, with a fixed grid spacing $\\Delta t$ between our points in time.\n",
    "\n",
    "For example, we replace\n",
    "\n",
    "$$\n",
    "\\frac{dx}{dt} \\rightarrow \\frac{x_{i+1} - x_i}{\\Delta t}\n",
    "$$\n",
    "\n",
    "which converts the first equation above into\n",
    "\n",
    "$$\n",
    "x_{i+1} = x_i + v_{x,i} \\Delta t \n",
    "$$\n",
    "\n",
    "__In the Markdown cell below, write out the other three finite-difference equations using TeX math:__\n",
    "\n",
    "$$\n",
    "y_{i+1} = ? \\\\\n",
    "v_{x,i+1} = ? \\\\\n",
    "v_{y,i+1} = ?\n",
    "$$\n",
    "\n",
    "(Remember, you can double-click on this cell to copy the Markdown source for those equations; then fill out the right-hand sides.  Notice the `\\\\`, which in TeX notation at the end of a line means \"start a new equation line after this\".)"
   ]
  },
  {
   "cell_type": "markdown",
   "id": "f544d2",
   "metadata": {
    "collapsed": false,
    "nbgrader": {
     "grade": true,
     "grade_id": "8_1a",
     "locked": false,
     "points": 6,
     "schema_version": 3,
     "solution": true,
     "task": false
    }
   },
   "source": [
    "Discretizing the $dy/dt$ equation gives basically the same equation as the one for $x_{i+1}$:\n",
    "\n",
    "$$\n",
    "y_{i+1} = y_i + v_{y,i} \\Delta t\n",
    "$$\n",
    "\n",
    "The other two equations are more complicated, but it's not any harder to discretize!  For example, once we convert\n",
    "\n",
    "$$\n",
    "\\frac{dv_x}{dt} \\rightarrow \\frac{v_{x,i+1} - v_{x,i}}{\\Delta t}\n",
    "$$\n",
    "\n",
    "then we just reorganize the equation to get\n",
    "\n",
    "$$\n",
    "v_{x,i+1} = v_{x,i} - \\Delta t (b v_{x,i} + cv_{x,i} \\sqrt{v_{x,i}^2 + v_{y,i}^2})\n",
    "$$\n",
    "\n",
    "and similarly,\n",
    "\n",
    "$$\n",
    "v_{y,i+1} = v_{y,i} - \\Delta t (mg + b v_{y,i} + cv_{y,i} \\sqrt{v_{x,i}^2 + v_{y,i}^2})\n",
    "$$"
   ]
  },
  {
   "cell_type": "markdown",
   "id": "584341",
   "metadata": {
    "collapsed": false,
    "nbgrader": {
     "grade": false,
     "grade_id": "cell-851f4e888cebe4f9",
     "locked": true,
     "schema_version": 3,
     "solution": false,
     "task": false
    }
   },
   "source": [
    "### Part B (14 points)\n",
    "\n",
    "Now that we have equations, we can use __Euler's method__ to solve them, as we did in the tutorials:\n",
    "\n",
    "* Evaluate the right-hand side of the difference equations at step $i$;\n",
    "* Store the results as the value of each variable at step $i+1$;\n",
    "* Repeat for the next step, until we reach the end of the trajectory.\n",
    "\n",
    "For simplicity, we'll fix $g = 9.8\\ m/s^2$ and $m = 1$ kg, and the motion will always start from $(x_0, y_0) = (0,0)$.\n",
    "\n"
   ]
  },
  {
   "cell_type": "markdown",
   "id": "774105",
   "metadata": {
    "collapsed": false,
    "nbgrader": {
     "grade": false,
     "grade_id": "cell-4bcfb8a645b12d9d",
     "locked": true,
     "schema_version": 3,
     "solution": false,
     "task": false
    }
   },
   "source": [
    "__Implement the function `solve_motion(t, b, c, v_0)` below__, which should solve the kinematic equations you wrote down in part A taking the following inputs:\n",
    "\n",
    "* `t`, a discrete list of time values over which we'll be solving the equation.  (For example, if we want to solve the motion for 5 seconds using 200 steps, we would call `solve_motion` with `t=np.linspace(0,5,200)`.)\n",
    "* `b` and `c`, the drag coefficients appearing above;\n",
    "*  `v_0` is a length-two tuple containing the initial conditions for speed in both x and y, in the form `v_0 = (v_x0, v_y0)`.\n",
    "\n",
    "The function __should return two arrays `x` and `y`__ which contain the results for the trajectory at each timestep, $x_i$ and $y_i$.\n",
    "\n",
    "I didn't give you a docstring or comments to guide you this time; __maybe you should write your own before you start!__ (If you get stuck, you should _definitely_ write out what you're trying to do in comments and docstring.)\n",
    "\n",
    "(__Hint:__ if you get stuck planning out the function `solve_motion`, try to follow what we did on tutorial 15: write a separate function `compute_next_step(x, y, vx, vy, dt)` that returns `(next_x, next_y, next_vx, next_vy)`, and then incorporate that into your big function `solve_motion`.)\n",
    "\n"
   ]
  },
  {
   "cell_type": "code",
   "execution_count": 4,
   "id": "a8c6b0",
   "metadata": {
    "collapsed": false,
    "nbgrader": {
     "grade": true,
     "grade_id": "8_1b_solver",
     "locked": false,
     "points": 6,
     "schema_version": 3,
     "solution": true,
     "task": false
    }
   },
   "outputs": [
   ],
   "source": [
    "def solve_motion(t, v_0, b, c):\n",
    "    # Add docstring here!\n",
    "    \n",
    "    g = 9.8  # m/s^2\n",
    "    m = 1    # kg\n",
    "    \n",
    "    ### BEGIN SOLUTION\n",
    "    # Find dt and N\n",
    "    dt = t[1] - t[0]\n",
    "    Nt = len(t)\n",
    "    \n",
    "    # Initialize arrays for our trajectory\n",
    "    x = np.zeros_like(t)\n",
    "    y = np.zeros_like(t)\n",
    "    vx = np.zeros_like(t)\n",
    "    vy = np.zeros_like(t)\n",
    "    \n",
    "    # Set initial values\n",
    "    vx[0], vy[0] = v_0\n",
    "    \n",
    "    # Iterate and apply the Euler step\n",
    "    for i in range(0, Nt - 1):\n",
    "        x[i+1] = x[i] + vx[i] * dt\n",
    "        y[i+1] = y[i] + vy[i] * dt\n",
    "        \n",
    "        speed_i = np.sqrt(vx[i]**2 + vy[i]**2)\n",
    "        \n",
    "        vx[i+1] = vx[i] + dt * (-b*vx[i] - c*vx[i] * speed_i)\n",
    "        vy[i+1] = vy[i] + dt * (-m*g - b*vy[i] - c*vy[i] * speed_i)\n",
    "        \n",
    "    return x,y\n",
    "    \n",
    "    \n",
    "    ### END SOLUTION"
   ]
  },
  {
   "cell_type": "markdown",
   "id": "a3df8b",
   "metadata": {
    "collapsed": false,
    "nbgrader": {
     "grade": false,
     "grade_id": "cell-64b8040f1e25998e",
     "locked": true,
     "schema_version": 3,
     "solution": false,
     "task": false
    }
   },
   "source": [
    "There are a couple of simple tests that you can run to make sure things are working correctly in your solver above:\n",
    "\n",
    "* If you set both `b` and `c` to zero, you should get regular motion with no drag.  In particular, remember that the range of a projectile fired from the origin with no drag is:\n",
    "\n",
    "$$\n",
    "R = \\frac{v_0^2 \\sin (2\\theta)}{g} \n",
    "$$\n",
    "\n",
    "* If `c` is zero but `b` is not, then the motion [can be solved analytically](http://farside.ph.utexas.edu/teaching/336k/Newtonhtml/node29.html) _(be aware: the link uses different notation than we do!)_.  In particular, in the limit that `b` is very large, the range becomes\n",
    "\n",
    "$$\n",
    "R = \\frac{m v_0 \\cos \\theta}{b}\n",
    "$$\n",
    "\n",
    "If we set the initial speed to $(v_x, v_y) = (4,4)$ m/s, then $v_0 = 4\\sqrt{2} = 5.657$ m/s.  Plugging in numbers, we can find\n",
    "\n",
    "$$\n",
    "R = 3.265\\ \\rm{m}\\ \\ \\textrm{(no drag)} $$\n",
    "\n",
    "$$\n",
    "R = 0.133\\ \\rm{m}\\ \\ (\\textrm{extreme drag}, b = 30\\ \\rm{kg/s})\n",
    "$$\n",
    "\n",
    "Make sure your numerical solution gets both of these right!  I've given you a range-finding function below that takes x,y trajectories as `solve_motion` should return them.\n",
    "\n"
   ]
  },
  {
   "cell_type": "code",
   "execution_count": 5,
   "id": "6ffeb6",
   "metadata": {
    "collapsed": false,
    "nbgrader": {
     "grade": false,
     "grade_id": "cell-fd5a0669d7f559d1",
     "locked": true,
     "schema_version": 3,
     "solution": false,
     "task": false
    }
   },
   "outputs": [
   ],
   "source": [
    "# Range-finder for trajectories (x(t), y(t)).\n",
    "# Note that this will have a numerical error depending on dt.\n",
    "# If your answer looks wrong, first try adding more steps!\n",
    "\n",
    "def find_range(x,y):\n",
    "    \n",
    "    # Cut off the first few entries, since y starts\n",
    "    # at exactly zero and we don't want to find x=0!\n",
    "    i_zero = np.abs(y[3:]).argmin() \n",
    "    i_zero += 3  # i_zero is off by 3 since we cut off y; fix it!\n",
    "\n",
    "    return x[i_zero]"
   ]
  },
  {
   "cell_type": "markdown",
   "id": "a8e8d8",
   "metadata": {
    "collapsed": false,
    "nbgrader": {
     "grade": false,
     "grade_id": "cell-d39bce00504ccd33",
     "locked": true,
     "schema_version": 3,
     "solution": false,
     "task": false
    }
   },
   "source": [
    "In the cell below, check your code by __calculating the motion for `b=0`, `c=0`__ over a time range of 5 seconds.  __Plot the trajectory__ and make sure it looks reasonable.  Then in the next cell, __use `find_range` to check the range__ against the formula above.\n",
    "\n",
    "(You may write an automatic test with `assert` or `numpy.testing.assert_allclose`, or you can check the range by hand.  But show your work either way!)"
   ]
  },
  {
   "cell_type": "code",
   "execution_count": 6,
   "id": "cf920f",
   "metadata": {
    "collapsed": false,
    "nbgrader": {
     "grade": true,
     "grade_id": "8_1b_plot1",
     "locked": false,
     "points": 2,
     "schema_version": 3,
     "solution": true,
     "task": false
    }
   },
   "outputs": [
    {
     "data": {
      "text/plain": [
       "(0.0, 1.0)"
      ]
     },
     "execution_count": 6,
     "metadata": {
     },
     "output_type": "execute_result"
    },
    {
     "data": {
      "image/png": "[encoded data removed]",
      "text/plain": "<Figure size 432x288 with 1 Axes>"
     },
     "metadata": {
      "image/png": {
       "height": 252,
       "width": 380
      },
      "needs_background": "light"
     },
     "output_type": "execute_result"
    }
   ],
   "source": [
    "# Check/plot your solver for b=0, c=0 here\n",
    "\n",
    "### BEGIN SOLUTION\n",
    "t = np.linspace(0,5,50000)\n",
    "x,y = solve_motion(t, (4, 4), b=0, c=0.)\n",
    "\n",
    "plt.plot(x,y)\n",
    "plt.xlim(0,3.5)\n",
    "plt.ylim(0,1)\n",
    "### END SOLUTION"
   ]
  },
  {
   "cell_type": "code",
   "execution_count": 7,
   "id": "f9e165",
   "metadata": {
    "collapsed": false,
    "nbgrader": {
     "grade": true,
     "grade_id": "8_1b_range1",
     "locked": false,
     "points": 2,
     "schema_version": 3,
     "solution": true,
     "task": false
    }
   },
   "outputs": [
    {
     "name": "stdout",
     "output_type": "stream",
     "text": [
      "Range = 3.2656653133065494\n"
     ]
    }
   ],
   "source": [
    "# Test the range against the analytic result here!\n",
    "known_R = 3.2653\n",
    "\n",
    "### BEGIN SOLUTION\n",
    "print(\"Range =\", find_range(x,y))\n",
    "### END SOLUTION"
   ]
  },
  {
   "cell_type": "markdown",
   "id": "13bff4",
   "metadata": {
    "collapsed": false,
    "nbgrader": {
     "grade": false,
     "grade_id": "cell-5b4d80b268431556",
     "locked": true,
     "schema_version": 3,
     "solution": false,
     "task": false
    }
   },
   "source": [
    "Now, air resistance!  In the cell below, check your code by __calculating the motion for `b=30` kg/s, `c=0`__ over a time range of 5 seconds.  __Plot the trajectory__ and make sure it looks reasonable.  Then in the next cell, __use `find_range` to check the range__ against the formula above.\n",
    "\n",
    "(You may write an automatic test with `assert` or `numpy.testing.assert_allclose`, or you can check the range by hand.  But show your work either way!)"
   ]
  },
  {
   "cell_type": "code",
   "execution_count": 8,
   "id": "c5eb3d",
   "metadata": {
    "collapsed": false,
    "nbgrader": {
     "grade": true,
     "grade_id": "8_1b_plot2",
     "locked": false,
     "points": 2,
     "schema_version": 3,
     "solution": true,
     "task": false
    }
   },
   "outputs": [
    {
     "name": "stdout",
     "output_type": "stream",
     "text": [
      "Range = 0.13333310215491428\n"
     ]
    },
    {
     "data": {
      "text/plain": [
       "(0.0, 0.12)"
      ]
     },
     "execution_count": 8,
     "metadata": {
     },
     "output_type": "execute_result"
    },
    {
     "data": {
      "image/png": "[encoded data removed]",
      "text/plain": "<Figure size 432x288 with 1 Axes>"
     },
     "metadata": {
      "image/png": {
       "height": 252,
       "width": 389
      },
      "needs_background": "light"
     },
     "output_type": "execute_result"
    }
   ],
   "source": [
    "# Check/plot your solution for b=30 kg/s, c=0  here\n",
    "\n",
    "### BEGIN SOLUTION\n",
    "x,y = solve_motion(t, (4,4), b=30, c=0)\n",
    "print(\"Range =\", find_range(x,y))\n",
    "\n",
    "plt.plot(x,y)\n",
    "plt.ylim(0,0.12)\n",
    "### END SOLUTION"
   ]
  },
  {
   "cell_type": "code",
   "execution_count": 9,
   "id": "8726ae",
   "metadata": {
    "collapsed": false,
    "nbgrader": {
     "grade": true,
     "grade_id": "8_1b_hidden",
     "locked": true,
     "points": 4,
     "schema_version": 3,
     "solution": false,
     "task": false
    }
   },
   "outputs": [
    {
     "name": "stdout",
     "output_type": "stream",
     "text": [
      "x1[0:10] =  [0.         0.00100005 0.0020001  0.00300015 0.0040002  0.00500025\n",
      " 0.0060003  0.00700035 0.0080004  0.00900045]\n",
      "y1[0:10] =  [0.         0.00100005 0.00199949 0.00299831 0.00399652 0.00499412\n",
      " 0.00599111 0.00698749 0.00798325 0.0089784 ]\n",
      "x2[0:10] =  [0.         0.00100005 0.0019926  0.0029777  0.00395542 0.0049258\n",
      " 0.00588891 0.00684479 0.0077935  0.0087351 ]\n",
      "y2[0:10] =  [0.         0.00100005 0.00199199 0.00297587 0.00395176 0.00491972\n",
      " 0.00587981 0.00683208 0.0077766  0.00871343]\n"
     ]
    }
   ],
   "source": [
    "# Hidden testing cell; do not delete!\n",
    "import numpy.testing as npt\n",
    "\n",
    "### BEGIN HIDDEN TESTS\n",
    "t = np.linspace(0,5,20000)\n",
    "x1,y1 = solve_motion(t, (4,4), b=0, c=0)\n",
    "x2,y2 = solve_motion(t, (4,4), b=30, c=0)\n",
    "\n",
    "print(\"x1[0:10] = \", x1[0:10])\n",
    "print(\"y1[0:10] = \", y1[0:10])\n",
    "print(\"x2[0:10] = \", x2[0:10])\n",
    "print(\"y2[0:10] = \", y2[0:10])\n",
    "\n",
    "npt.assert_allclose(x1[y1>=0][-1], 3.2653, atol=1e-3)\n",
    "npt.assert_allclose(x2[y2>=0][-1], 0.1333, atol=1e-3)\n",
    "\n",
    "npt.assert_allclose(y1[1000], 0.6941, atol=1e-3)\n",
    "npt.assert_allclose(y2[1000], 0.0625, atol=1e-3)\n",
    "### END HIDDEN TESTS"
   ]
  },
  {
   "cell_type": "markdown",
   "id": "a6f69e",
   "metadata": {
    "collapsed": false,
    "nbgrader": {
     "grade": false,
     "grade_id": "cell-faff93794df1c1410",
     "locked": true,
     "schema_version": 3,
     "solution": false,
     "task": false
    }
   },
   "source": [
    "##  Part C (8 points): an alternate solution using Runge-Kutta\n",
    "\n",
    "Another way to approach this problem is to use the Runge-Kutta, the fourth-order method mentioned in tutorial 15. To do this, we need to define a function that computes the first-order derivatives, then pass that function to the Runge-Kutta solver.\n",
    "\n",
    "When setting up a system of ODEs, we need to construct an array of the derivatives and a function to make that array. Going back to our system, we can write them as a first-order system of these equations:\n",
    "$$\n",
    "\\frac{dx}{dt} = v_x \\\\\n",
    "\\frac{dy}{dt} = v_y \\\\\n",
    "\\frac{dv_x}{dt} = -bv_x - cv_x \\sqrt{v_x^2 + v_y^2} \\\\\n",
    "\\frac{dv_y}{dt} = -mg - bv_y - cv_y \\sqrt{v_x^2 + v_y^2} \n",
    "$$\n",
    "Your next goal is to write a function that will calculate these. Therefore, you want a function that will return `y`, where `y[0] ` corresponds to $\\frac{dx}{dt}$, `y[1]` corresponds to $\\frac{dy}{dt}$, `y[2]` corresponds to $\\frac{dv_x}{dt} $, and `y[3]` corresponds to $\\frac{dv_y}{dt} $, computed from the right-hand sides of the equations above.\n",
    "\n",
    "Your function will also need to know the values of the parameters `m, g, b, c`, so pass those as arguments.\n",
    "\n",
    "In the cell below, write the function `ode_RHS` that calculates the derivatives and returns the array `y`. Then define initial values for your function `x0, y0, vx0, vy0` to be passed to `si.solve_ivp`. \n",
    "\n"
   ]
  },
  {
   "cell_type": "code",
   "execution_count": 10,
   "id": "946b43",
   "metadata": {
    "collapsed": false,
    "nbgrader": {
     "grade": true,
     "grade_id": "a909fd",
     "locked": false,
     "points": 2,
     "schema_version": 3,
     "solution": true,
     "task": false
    }
   },
   "outputs": [
    {
     "data": {
      "text/plain": [
       "(0.0, 1.0)"
      ]
     },
     "execution_count": 10,
     "metadata": {
     },
     "output_type": "execute_result"
    },
    {
     "data": {
      "image/png": "[encoded data removed]",
      "text/plain": "<Figure size 432x288 with 1 Axes>"
     },
     "metadata": {
      "image/png": {
       "height": 252,
       "width": 380
      },
      "needs_background": "light"
     },
     "output_type": "execute_result"
    }
   ],
   "source": [
    "import scipy.integrate as si\n",
    "\n",
    "\n",
    "# define function to pass to scipy.integrate, then define the constants you will need for the solution\n",
    "def ode_RHS(t, y, m=1, g=9.8, b=0, c=0):\n",
    "    ### BEGIN SOLUTION\n",
    "    x, y, vx, vy = y\n",
    "    speed = np.sqrt(vx**2 + vy**2)\n",
    "    return [vx, vy, -b * vx - c * vx * speed, -m * g - b * vy - c * vy * speed]\n",
    "\n",
    "\n",
    "m = 1\n",
    "g = 9.8\n",
    "b = 0\n",
    "c = 0\n",
    "x0 = 0\n",
    "y0 = 0\n",
    "vx0 = 4\n",
    "vy0 = 4\n",
    "### END SOLUTION2\n",
    "solution = si.solve_ivp(ode_RHS, (0., 5.), [x0, y0, vx0, vy0],\n",
    "                        t_eval=np.linspace(0, 5, 2000),\n",
    "                        args=(m, g, b, c))\n",
    "x = solution.y[0]  #solution.y is the components of the solution; y[0] is x; y[1] is y, &c.\n",
    "y = solution.y[1]\n",
    "plt.plot(x, y)\n",
    "plt.xlim(0, 3.5)\n",
    "plt.ylim(0, 1)"
   ]
  },
  {
   "cell_type": "markdown",
   "id": "d00e48",
   "metadata": {
    "collapsed": false,
    "nbgrader": {
     "grade": false,
     "grade_id": "d5bf0a",
     "locked": true,
     "remove": false,
     "schema_version": 3,
     "solution": false,
     "task": false
    }
   },
   "source": [
    "Now test your solver with drag: set `b=30`, as we did above."
   ]
  },
  {
   "cell_type": "code",
   "execution_count": 11,
   "id": "ec827c",
   "metadata": {
    "collapsed": false,
    "nbgrader": {
     "grade": true,
     "grade_id": "8_1b_range2",
     "locked": false,
     "points": 2,
     "schema_version": 3,
     "solution": true,
     "task": false
    }
   },
   "outputs": [
    {
     "name": "stdout",
     "output_type": "stream",
     "text": [
      "Range = 0.13333307668201227\n"
     ]
    }
   ],
   "source": [
    "# Test the range against the analytic result here!\n",
    "known_R = 0.133\n",
    "\n",
    "#Integrate the ODE using si.solve as above, but set b=30\n",
    "### BEGIN SOLUTION\n",
    "solution = si.solve_ivp(ode_RHS, (0.,5.), [0, 0, 4, 4], t_eval=np.linspace(0,5,2000), args=(m, g, 30, 0))\n",
    "### END SOLUTION\n",
    "\n",
    "x=solution.y[0]\n",
    "y=solution.y[1]\n",
    "print(\"Range =\", x[y>=0][-1])"
   ]
  },
  {
   "cell_type": "code",
   "execution_count": 12,
   "id": "8f8809",
   "metadata": {
    "collapsed": false,
    "nbgrader": {
     "grade": true,
     "grade_id": "8_1b_hidden0",
     "locked": true,
     "points": 4,
     "schema_version": 3,
     "solution": false,
     "task": false
    }
   },
   "outputs": [
   ],
   "source": [
    "# Hidden testing cell; do not delete!\n",
    "\n",
    "### BEGIN HIDDEN TESTS\n",
    "solution = si.solve_ivp(ode_RHS, (0.,5.), [0, 0, 4, 4], t_eval=np.linspace(0,5,2000), args=(m, g, 0, 0))\n",
    "x3=solution.y[0]\n",
    "y3=solution.y[1]\n",
    "solution = si.solve_ivp(ode_RHS, (0.,5.), [0, 0, 4, 4], t_eval=np.linspace(0,5,2000), args=(m, g, 30, 0))\n",
    "x4=solution.y[0]\n",
    "y4=solution.y[1]\n",
    "\n",
    "npt.assert_allclose(x3[y3>=0][-1], 3.2616, atol=1e-3)\n",
    "npt.assert_allclose(x4[y4>=0][-1], 0.1333, atol=1e-3)\n",
    "\n",
    "npt.assert_allclose(y3[100], 0.6939, atol=1e-3)\n",
    "npt.assert_allclose(y4[100], 0.06243, atol=1e-3)\n",
    "### END HIDDEN TESTS"
   ]
  },
  {
   "cell_type": "markdown",
   "id": "da54cf",
   "metadata": {
    "collapsed": false,
    "nbgrader": {
     "grade": false,
     "grade_id": "cell-7e6483932d9ac3c7",
     "locked": true,
     "schema_version": 3,
     "solution": false,
     "task": false
    }
   },
   "source": [
    "### Part D (15 points)\n",
    "\n",
    "Now, the grand finale.  You are given a projectile with drag coefficients $b = 0.7$ kg/s and $c = 0.2$ kg/m; the mass is still 1 kg as we've assumed before.  __There are three targets:__ \n",
    "\n",
    "* Target 1 is on the ground at $(x,y) = (3,0)$;\n",
    "* Target 2 is at $(x,y) = (0.5,1)$;\n",
    "* Target 3 is at $(x,y) = (2,2)$.\n",
    "\n",
    "Adjusting both the initial speed and angle, there are an _infinite_ number of solutions to this problem!  So let's simplify by saying __the initial launch speed is 10 m/s__.  Assume the targets have __zero width and height__: you must hit the exact coordinates above as closely as possible.  Also, ignore collisions, i.e. you don't have to worry about whether your shot hits a different target than the one you're aiming at.\n",
    "\n",
    "__Find the launch angles $\\theta_1, \\theta_2, \\theta_3$ (in radians) needed to hit each of the three targets:__ save your answers in the variables `theta_1`, `theta_2` and `theta_3` below.  Your answers will be checked to within _three digits of accuracy after the decimal._\n",
    "\n",
    "There are no tests for this problem, and no guidelines; all you need to do is hit the targets.  (The only rule is that you must _show your work_ and your code here has to find the angles, i.e. you can't use some other program to solve this and just plug in the numerical values below.)\n",
    "\n",
    "_(Hint: you should recognize this as a boundary-value problem.  In fact, since we're literally shooting at targets, this seems like an ideal candidate for shooting!)_\n",
    "\n",
    "_(Another hint: just making plots of where the projectile goes for various choices of the angle is probably a good place to start!)_\n",
    "\n"
   ]
  },
  {
   "cell_type": "markdown",
   "id": "7b51f1",
   "metadata": {
    "collapsed": false,
    "nbgrader": {
     "grade": false,
     "grade_id": "cell-7945030b0067f7b8",
     "locked": true,
     "schema_version": 3,
     "solution": false,
     "task": false
    }
   },
   "source": [
    "__Tricky things you should watch out for:__\n",
    "\n",
    "1. Now we're evolving in _time_, but our boundary exists in _position_.  So we don't know before starting how many seconds we need to calculate for!  Make sure your `t`-range is long enough that it isn't messing up your shooting solver...\n",
    "\n",
    "2. Checking the boundary is trickier than for the Schrodinger equation: first we need to find the timestep where our solution for `x` crosses `x_target`, and _then_ we can check how far `y` is from `y_target`.  How can you find the timestep?  Well, this sounds very similar to what I did up in `find_range` above, where we found the timestep where the difference between `y` and 0 was smallest...\n",
    "\n",
    "3. There are _two_ values of $\\theta$ that will hit each of the targets; either solution is fine, although some of them are a little trickier to find and may require a good initial guess.\n",
    "\n",
    "4. Since there are often two solutions, a bisection root-finder is hard to use here.  The `scipy.optimize.newton` finder worked well for me, but __the default options for `newton` will probably lead to frustration!__  You probably want to adjust both the tolerance option `tol=...` and the maximum number of iterations `maxiter=...`.\n",
    "\n",
    "\n",
    "(If you manage to find __all six solutions__ for `theta` that will hit the targets, then you will get up to _4 points of bonus credit back_ for any mistakes you made elsewhere on this homework!  You can't do better than a perfect score, though.)"
   ]
  },
  {
   "cell_type": "code",
   "execution_count": 13,
   "id": "81c858",
   "metadata": {
    "collapsed": false,
    "nbgrader": {
     "grade": true,
     "grade_id": "8_1c_code",
     "locked": false,
     "points": 8,
     "schema_version": 3,
     "solution": true,
     "task": false
    }
   },
   "outputs": [
   ],
   "source": [
    "### BEGIN SOLUTION\n",
    "\n",
    "from scipy.optimize import newton\n",
    "def solution_shoot_projectile(target, theta_0=np.pi/4, b=0.7, c=0.2, v0=10, tmax=10, points_per_sec=1000):\n",
    "    \"\"\"\n",
    "    Find the launch angle theta that will hit a target,\n",
    "    given drag coefficients b,c and initial speed v0.\n",
    "    \n",
    "    Uses shooting to solve the BVP, like our Schrodinger equation solution\n",
    "    on tutorial 16.\n",
    "    \"\"\"\n",
    "    \n",
    "    t = np.linspace(0, tmax, tmax * points_per_sec)\n",
    "    \n",
    "    def delta_target(theta):\n",
    "        v0_theta = (v0 * np.cos(theta), v0 * np.sin(theta))\n",
    "        xt, yt = solve_motion(t, v0_theta, b=b, c=c)\n",
    "        \n",
    "        # Find the closest x to the target...\n",
    "        i_target = np.abs(xt - target[0]).argmin()\n",
    "        \n",
    "        # ...and see how far off the y-coordinate is.\n",
    "        return yt[i_target] - target[1]\n",
    "    \n",
    "    # Now use a root-finder on theta\n",
    "    theta_opt = newton(delta_target, theta_0, tol=1e-5, maxiter=200)\n",
    "    xopt, yopt = solve_motion(t, (v0 * np.cos(theta_opt), v0 * np.sin(theta_opt)), b=b, c=c)\n",
    "\n",
    "    return (xopt, yopt), theta_opt\n",
    "    \n",
    "### END SOLUTION"
   ]
  },
  {
   "cell_type": "code",
   "execution_count": 14,
   "id": "235052",
   "metadata": {
    "collapsed": false,
    "nbgrader": {
     "grade": false,
     "grade_id": "cell-8d9e0dd8d623a068",
     "locked": false,
     "schema_version": 3,
     "solution": true,
     "task": false
    }
   },
   "outputs": [
    {
     "ename": "RuntimeError",
     "evalue": "Tolerance of -29.484754817371815 reached. Failed to converge after 12 iterations, value is -14.439235915262566.",
     "output_type": "error",
     "traceback": [
      "\u001b[0;31m---------------------------------------------------------------------------\u001b[0m",
      "\u001b[0;31mRuntimeError\u001b[0m                              Traceback (most recent call last)",
      "\u001b[0;32m/tmp/ipykernel_5661/278606524.py\u001b[0m in \u001b[0;36m<cell line: 40>\u001b[0;34m()\u001b[0m\n\u001b[1;32m     38\u001b[0m \u001b[0;34m\u001b[0m\u001b[0m\n\u001b[1;32m     39\u001b[0m \u001b[0;31m# Alternative shot for target 3\u001b[0m\u001b[0;34m\u001b[0m\u001b[0;34m\u001b[0m\u001b[0m\n\u001b[0;32m---> 40\u001b[0;31m \u001b[0;34m(\u001b[0m\u001b[0mx6\u001b[0m\u001b[0;34m,\u001b[0m \u001b[0my6\u001b[0m\u001b[0;34m)\u001b[0m\u001b[0;34m,\u001b[0m \u001b[0mtheta_6\u001b[0m \u001b[0;34m=\u001b[0m \u001b[0msolution_shoot_projectile\u001b[0m\u001b[0;34m(\u001b[0m\u001b[0;34m(\u001b[0m\u001b[0;36m2\u001b[0m\u001b[0;34m,\u001b[0m\u001b[0;36m2\u001b[0m\u001b[0;34m)\u001b[0m\u001b[0;34m,\u001b[0m \u001b[0mtheta_0\u001b[0m\u001b[0;34m=\u001b[0m\u001b[0mnp\u001b[0m\u001b[0;34m.\u001b[0m\u001b[0mpi\u001b[0m\u001b[0;34m/\u001b[0m\u001b[0;36m2\u001b[0m\u001b[0;34m-\u001b[0m\u001b[0;36m0.3\u001b[0m\u001b[0;34m,\u001b[0m \u001b[0mv0\u001b[0m \u001b[0;34m=\u001b[0m \u001b[0;36m10\u001b[0m\u001b[0;34m)\u001b[0m\u001b[0;34m\u001b[0m\u001b[0;34m\u001b[0m\u001b[0m\n\u001b[0m\u001b[1;32m     41\u001b[0m \u001b[0;34m\u001b[0m\u001b[0m\n\u001b[1;32m     42\u001b[0m \u001b[0mplt\u001b[0m\u001b[0;34m.\u001b[0m\u001b[0mplot\u001b[0m\u001b[0;34m(\u001b[0m\u001b[0mx1\u001b[0m\u001b[0;34m,\u001b[0m\u001b[0my1\u001b[0m\u001b[0;34m,\u001b[0m \u001b[0mcolor\u001b[0m\u001b[0;34m=\u001b[0m\u001b[0;34m'red'\u001b[0m\u001b[0;34m)\u001b[0m\u001b[0;34m\u001b[0m\u001b[0;34m\u001b[0m\u001b[0m\n",
      "\u001b[0;32m/tmp/ipykernel_5661/1184379438.py\u001b[0m in \u001b[0;36msolution_shoot_projectile\u001b[0;34m(target, theta_0, b, c, v0, tmax, points_per_sec)\u001b[0m\n\u001b[1;32m     24\u001b[0m \u001b[0;34m\u001b[0m\u001b[0m\n\u001b[1;32m     25\u001b[0m     \u001b[0;31m# Now use a root-finder on theta\u001b[0m\u001b[0;34m\u001b[0m\u001b[0;34m\u001b[0m\u001b[0m\n\u001b[0;32m---> 26\u001b[0;31m     \u001b[0mtheta_opt\u001b[0m \u001b[0;34m=\u001b[0m \u001b[0mnewton\u001b[0m\u001b[0;34m(\u001b[0m\u001b[0mdelta_target\u001b[0m\u001b[0;34m,\u001b[0m \u001b[0mtheta_0\u001b[0m\u001b[0;34m,\u001b[0m \u001b[0mtol\u001b[0m\u001b[0;34m=\u001b[0m\u001b[0;36m1e-5\u001b[0m\u001b[0;34m,\u001b[0m \u001b[0mmaxiter\u001b[0m\u001b[0;34m=\u001b[0m\u001b[0;36m200\u001b[0m\u001b[0;34m)\u001b[0m\u001b[0;34m\u001b[0m\u001b[0;34m\u001b[0m\u001b[0m\n\u001b[0m\u001b[1;32m     27\u001b[0m     \u001b[0mxopt\u001b[0m\u001b[0;34m,\u001b[0m \u001b[0myopt\u001b[0m \u001b[0;34m=\u001b[0m \u001b[0msolve_motion\u001b[0m\u001b[0;34m(\u001b[0m\u001b[0mt\u001b[0m\u001b[0;34m,\u001b[0m \u001b[0;34m(\u001b[0m\u001b[0mv0\u001b[0m \u001b[0;34m*\u001b[0m \u001b[0mnp\u001b[0m\u001b[0;34m.\u001b[0m\u001b[0mcos\u001b[0m\u001b[0;34m(\u001b[0m\u001b[0mtheta_opt\u001b[0m\u001b[0;34m)\u001b[0m\u001b[0;34m,\u001b[0m \u001b[0mv0\u001b[0m \u001b[0;34m*\u001b[0m \u001b[0mnp\u001b[0m\u001b[0;34m.\u001b[0m\u001b[0msin\u001b[0m\u001b[0;34m(\u001b[0m\u001b[0mtheta_opt\u001b[0m\u001b[0;34m)\u001b[0m\u001b[0;34m)\u001b[0m\u001b[0;34m,\u001b[0m \u001b[0mb\u001b[0m\u001b[0;34m=\u001b[0m\u001b[0mb\u001b[0m\u001b[0;34m,\u001b[0m \u001b[0mc\u001b[0m\u001b[0;34m=\u001b[0m\u001b[0mc\u001b[0m\u001b[0;34m)\u001b[0m\u001b[0;34m\u001b[0m\u001b[0;34m\u001b[0m\u001b[0m\n\u001b[1;32m     28\u001b[0m \u001b[0;34m\u001b[0m\u001b[0m\n",
      "\u001b[0;32m/usr/local/lib/python3.10/dist-packages/scipy/optimize/_zeros_py.py\u001b[0m in \u001b[0;36mnewton\u001b[0;34m(func, x0, fprime, args, tol, maxiter, fprime2, x1, rtol, full_output, disp)\u001b[0m\n\u001b[1;32m    346\u001b[0m                             \u001b[0;34m\" Failed to converge after %d iterations, value is %s.\"\u001b[0m\u001b[0;34m\u001b[0m\u001b[0;34m\u001b[0m\u001b[0m\n\u001b[1;32m    347\u001b[0m                             % (itr + 1, p1))\n\u001b[0;32m--> 348\u001b[0;31m                         \u001b[0;32mraise\u001b[0m \u001b[0mRuntimeError\u001b[0m\u001b[0;34m(\u001b[0m\u001b[0mmsg\u001b[0m\u001b[0;34m)\u001b[0m\u001b[0;34m\u001b[0m\u001b[0;34m\u001b[0m\u001b[0m\n\u001b[0m\u001b[1;32m    349\u001b[0m                     \u001b[0mwarnings\u001b[0m\u001b[0;34m.\u001b[0m\u001b[0mwarn\u001b[0m\u001b[0;34m(\u001b[0m\u001b[0mmsg\u001b[0m\u001b[0;34m,\u001b[0m \u001b[0mRuntimeWarning\u001b[0m\u001b[0;34m)\u001b[0m\u001b[0;34m\u001b[0m\u001b[0;34m\u001b[0m\u001b[0m\n\u001b[1;32m    350\u001b[0m                 \u001b[0mp\u001b[0m \u001b[0;34m=\u001b[0m \u001b[0;34m(\u001b[0m\u001b[0mp1\u001b[0m \u001b[0;34m+\u001b[0m \u001b[0mp0\u001b[0m\u001b[0;34m)\u001b[0m \u001b[0;34m/\u001b[0m \u001b[0;36m2.0\u001b[0m\u001b[0;34m\u001b[0m\u001b[0;34m\u001b[0m\u001b[0m\n",
      "\u001b[0;31mRuntimeError\u001b[0m: Tolerance of -29.484754817371815 reached. Failed to converge after 12 iterations, value is -14.439235915262566."
     ]
    },
    {
     "data": {
      "image/png": "[encoded data removed]",
      "text/plain": "<Figure size 576x576 with 1 Axes>"
     },
     "metadata": {
      "image/png": {
       "height": 483,
       "width": 505
      },
      "needs_background": "light"
     },
     "output_type": "execute_result"
    }
   ],
   "source": [
    "# Save your launch angle solutions in these variables - overwrite them below!\n",
    "theta_1 = np.pi/4\n",
    "theta_2 = np.pi/4\n",
    "theta_3 = np.pi/4\n",
    "\n",
    "\n",
    "# Draw the targets\n",
    "plt.figure(figsize=(8,8))\n",
    "def plot_target(x,y, color):\n",
    "    plt.plot(x,y, color=color, marker='o', markersize=2)\n",
    "    plt.plot(x,y, color=color, marker='o', markersize=15, fillstyle='none')\n",
    "    plt.plot(x,y, color=color, marker='o', markersize=25, fillstyle='none')\n",
    "    plt.plot(x,y, color=color, marker='o', markersize=35, fillstyle='none')\n",
    "    \n",
    "plot_target(3,0, color='red')     # Target 1 - hit this with launch angle theta_1\n",
    "plot_target(0.5,1, color='green') # Target 2 (--> theta_2)\n",
    "plot_target(2,2, color='blue')    # Target 3 (--> theta_3)\n",
    "\n",
    "plt.xlim(0,4)\n",
    "plt.ylim(0,4)\n",
    "plt.xlabel('x (m)')\n",
    "plt.ylabel('y (m)')\n",
    "\n",
    "# Now plot your solutions to see if they look reasonable!\n",
    "\n",
    "\n",
    "\n",
    "### BEGIN SOLUTION\n",
    "(x1, y1), theta_1 = solution_shoot_projectile((3,0))\n",
    "(x2, y2), theta_2 = solution_shoot_projectile((0.5,1), theta_0=np.pi/3)\n",
    "(x3, y3), theta_3 = solution_shoot_projectile((2,2), theta_0 = np.pi/3, v0 = 12)\n",
    "\n",
    "# Alternative shot for target 1\n",
    "(x4, y4), theta_4 = solution_shoot_projectile((3,0), theta_0=1.05)\n",
    "\n",
    "# Alternative shot for target 2\n",
    "(x5, y5), theta_5 = solution_shoot_projectile((0.5,1), theta_0=np.pi/2-0.095)\n",
    "\n",
    "# Alternative shot for target 3\n",
    "(x6, y6), theta_6 = solution_shoot_projectile((2,2), theta_0=np.pi/2-0.3, v0 = 10)\n",
    "\n",
    "plt.plot(x1,y1, color='red')\n",
    "plt.plot(x2,y2, color='green')\n",
    "plt.plot(x3,y3, color='blue')\n",
    "plt.plot(x4,y4, color='red', linestyle='--')\n",
    "plt.plot(x5,y5, color='green', linestyle='--')\n",
    "plt.plot(x6,y6, color='blue', linestyle='--')\n",
    "\n",
    "print(theta_1, theta_2, theta_3, theta_4, theta_5, theta_6)\n",
    "\n",
    "### END SOLUTION"
   ]
  },
  {
   "cell_type": "code",
   "execution_count": 15,
   "id": "9f470b",
   "metadata": {
    "collapsed": false,
    "nbgrader": {
     "grade": true,
     "grade_id": "8_1c_hidden",
     "locked": true,
     "points": 7,
     "schema_version": 3,
     "solution": false,
     "task": false
    }
   },
   "outputs": [
    {
     "name": "stdout",
     "output_type": "stream",
     "text": [
      "theta_1, theta_2, theta_3:\n",
      "0.31739113834222726 1.1408464461888534 0.9520896279496345\n"
     ]
    },
    {
     "ename": "AssertionError",
     "evalue": "",
     "output_type": "error",
     "traceback": [
      "\u001b[0;31m---------------------------------------------------------------------------\u001b[0m",
      "\u001b[0;31mAssertionError\u001b[0m                            Traceback (most recent call last)",
      "\u001b[0;32m/tmp/ipykernel_5661/372732669.py\u001b[0m in \u001b[0;36m<cell line: 16>\u001b[0;34m()\u001b[0m\n\u001b[1;32m     14\u001b[0m \u001b[0mcheck_3B\u001b[0m \u001b[0;34m=\u001b[0m \u001b[0mnp\u001b[0m\u001b[0;34m.\u001b[0m\u001b[0mabs\u001b[0m\u001b[0;34m(\u001b[0m\u001b[0mtheta_3\u001b[0m \u001b[0;34m-\u001b[0m \u001b[0;36m1.182853\u001b[0m\u001b[0;34m)\u001b[0m \u001b[0;34m<=\u001b[0m \u001b[0;36m1e-3\u001b[0m\u001b[0;34m\u001b[0m\u001b[0;34m\u001b[0m\u001b[0m\n\u001b[1;32m     15\u001b[0m \u001b[0;34m\u001b[0m\u001b[0m\n\u001b[0;32m---> 16\u001b[0;31m \u001b[0;32massert\u001b[0m \u001b[0mcheck_1A\u001b[0m \u001b[0;32mor\u001b[0m \u001b[0mcheck_1B\u001b[0m\u001b[0;34m\u001b[0m\u001b[0;34m\u001b[0m\u001b[0m\n\u001b[0m\u001b[1;32m     17\u001b[0m \u001b[0;32massert\u001b[0m \u001b[0mcheck_2A\u001b[0m \u001b[0;32mor\u001b[0m \u001b[0mcheck_2B\u001b[0m\u001b[0;34m\u001b[0m\u001b[0;34m\u001b[0m\u001b[0m\n\u001b[1;32m     18\u001b[0m \u001b[0;32massert\u001b[0m \u001b[0mcheck_3A\u001b[0m \u001b[0;32mor\u001b[0m \u001b[0mcheck_3B\u001b[0m\u001b[0;34m\u001b[0m\u001b[0;34m\u001b[0m\u001b[0m\n",
      "\u001b[0;31mAssertionError\u001b[0m: "
     ]
    }
   ],
   "source": [
    "# Hidden testing cell - do not delete!\n",
    "\n",
    "# Your answers should be saved in these variables!!\n",
    "# You will lose credit if they aren't!\n",
    "print (\"theta_1, theta_2, theta_3:\")\n",
    "print (theta_1, theta_2, theta_3)\n",
    "\n",
    "### BEGIN HIDDEN TESTS\n",
    "check_1A = np.abs(theta_1 - 0.198479) <= 1e-3\n",
    "check_1B = np.abs(theta_1 - 1.062109) <= 1e-3\n",
    "check_2A = np.abs(theta_2 - 1.128313) <= 1e-3\n",
    "check_2B = np.abs(theta_2 - 1.492687) <= 1e-3\n",
    "check_3A = np.abs(theta_3 - 0.952090) <= 1e-3\n",
    "check_3B = np.abs(theta_3 - 1.182853) <= 1e-3\n",
    "\n",
    "assert check_1A or check_1B\n",
    "assert check_2A or check_2B\n",
    "assert check_3A or check_3B\n",
    "\n",
    "### END HIDDEN TESTS\n",
    "\n",
    "## theta tests to be added here"
   ]
  },
  {
   "cell_type": "markdown",
   "id": "7e3c4b",
   "metadata": {
    "collapsed": false,
    "nbgrader": {
     "grade": false,
     "grade_id": "cell-ccc6403172ea3d8e",
     "locked": true,
     "schema_version": 3,
     "solution": false,
     "task": false
    }
   },
   "source": [
    "-----\n",
    "\n",
    "### Extra material \n",
    "\n",
    "(This stuff is _not_ part of the assignment, just for your information.)\n",
    "\n",
    "The `find_range` function I gave you above is sort of naive, since it just returns the nearest x-coordinate to the y-value that's nearest zero.  We could imagine improving this by __linear interpolation__: find a pair of (x,y) values bracketing zero, and then draw a line between them.  This makes the function significantly more complicated:"
   ]
  },
  {
   "cell_type": "code",
   "execution_count": 16,
   "id": "9639d0",
   "metadata": {
    "collapsed": false,
    "nbgrader": {
     "grade": false,
     "grade_id": "cell-826e1616c45adb33",
     "locked": true,
     "schema_version": 3,
     "solution": false,
     "task": false
    }
   },
   "outputs": [
   ],
   "source": [
    "def find_range_interp(x,y):\n",
    "    # Start with brute-force root finding, NumPy style!\n",
    "    # Find the timestep i where y is closest to zero.\n",
    "    # (The particle _starts_ at zero, so throw out the first\n",
    "    # few points in the path to avoid confusion.)\n",
    "    i_zero = np.abs(y[5:]).argmin() + 5\n",
    "    \n",
    "    # Figure out which way zero is from y[i_zero].\n",
    "    # Then do a linear interpolation to estimate the zero crossing.\n",
    "    if y[i_zero - 1] / y[i_zero] < 0:\n",
    "        # Sign changed to the left of i_zero\n",
    "        i1 = i_zero - 1\n",
    "        i2 = i_zero\n",
    "    elif y[i_zero + 1] / y[i_zero] < 0:\n",
    "        # Sign changed to the right of i_zero\n",
    "        i1 = i_zero\n",
    "        i2 = i_zero + 1\n",
    "    else:\n",
    "        # This should never happen if we understand our own algorithm!\n",
    "        # Make sure the program crashes if we somehow end up in this branch.\n",
    "        assert False\n",
    "        \n",
    "    # If y = mx + b, then y=0 at x=-b/m.\n",
    "    m = (y[i2] - y[i1]) / (x[i2] - x[i1])\n",
    "    b = y[i1] - m * x[i1]\n",
    "    \n",
    "    return -b/m\n",
    "    "
   ]
  },
  {
   "cell_type": "markdown",
   "id": "baf46d",
   "metadata": {
    "collapsed": false,
    "nbgrader": {
     "grade": false,
     "grade_id": "cell-a0c81f55fe549f60",
     "locked": true,
     "schema_version": 3,
     "solution": false,
     "task": false
    }
   },
   "source": [
    "If you try this above where we used `find_range`, you'll find that it doesn't really help with needing a lot of points to get the range correct!  This is because although we have reduced one source of discretization error with `find_range_interp`, this source of error is _small_ compared to the accumulated error from integrating the entire trajectory using Euler's method!\n",
    "\n",
    "(If we used a more sophisticated scheme like Runge-Kutta 4-5, then `find_range_interp` might have been more useful to use.)"
   ]
  }
 ],
 "metadata": {
  "celltoolbar": "Create Assignment",
  "kernelspec": {
   "argv": [
    "/usr/bin/python3",
    "-m",
    "ipykernel",
    "--HistoryManager.enabled=False",
    "--matplotlib=inline",
    "-c",
    "%config InlineBackend.figure_formats = set(['retina'])\nimport matplotlib; matplotlib.rcParams['figure.figsize'] = (12, 7)",
    "-f",
    "{connection_file}"
   ],
   "display_name": "Python 3 (system-wide)",
   "env": {
   },
   "language": "python",
   "metadata": {
    "cocalc": {
     "description": "Python 3 programming language",
     "priority": 100,
     "url": "https://www.python.org/"
    }
   },
   "name": "python3",
   "resource_dir": "/ext/jupyter/kernels/python3"
  },
  "language_info": {
   "codemirror_mode": {
    "name": "ipython",
    "version": 3
   },
   "file_extension": ".py",
   "mimetype": "text/x-python",
   "name": "python",
   "nbconvert_exporter": "python",
   "pygments_lexer": "ipython3",
   "version": "3.10.12"
  },
  "nbgrader": {
   "__altered": false,
   "__hash": 1025205524,
   "_root": {
    "entries": [
     [
      "__altered",
      false
     ],
     [
      "__hash",
      912286151
     ],
     [
      "_root",
      {
       "entries": [
        [
         "cocalc_minimal_stubs",
         true
        ]
       ],
       "ownerID": {
       }
      }
     ],
     [
      "cocalc_minimal_stubs",
      true
     ],
     [
      "size",
      1
     ]
    ],
    "ownerID": {
    }
   },
   "cocalc_minimal_stubs": false,
   "size": 5
  }
 },
 "nbformat": 4,
 "nbformat_minor": 4
}